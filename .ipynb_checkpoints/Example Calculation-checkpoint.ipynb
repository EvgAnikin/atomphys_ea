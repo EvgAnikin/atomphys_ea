{
 "cells": [
  {
   "cell_type": "code",
   "execution_count": 1,
   "metadata": {},
   "outputs": [],
   "source": [
    "from atomphys import _ureg, Atom\n",
    "import numpy as np\n",
    "import matplotlib.pyplot as plt\n",
    "from math import pi as π\n",
    "\n",
    "_ureg.default_format = '~0.3gP'\n",
    "c = _ureg.c\n",
    "ε_0 = _ureg.ε_0"
   ]
  },
  {
   "cell_type": "code",
   "execution_count": 2,
   "metadata": {},
   "outputs": [],
   "source": [
    "# fetch the NIST transition data for Mg+\n",
    "Mg = Atom('mg ii')"
   ]
  },
  {
   "cell_type": "code",
   "execution_count": 3,
   "metadata": {},
   "outputs": [
    {
     "data": {
      "text/html": [
       "\\[0.00857300074692271\\ Hz\\ cm^2\\ h/V^2\\]"
      ],
      "text/latex": [
       "$0.00857300074692271\\ \\frac{\\mathrm{Hz} \\cdot \\mathrm{cm}^{2} \\cdot \\mathrm{h}}{\\mathrm{V}^{2}}$"
      ],
      "text/plain": [
       "0.00857300074692271 <Unit('centimeter ** 2 * hertz * planck_constant / volt ** 2')>"
      ]
     },
     "execution_count": 3,
     "metadata": {},
     "output_type": "execute_result"
    }
   ],
   "source": [
    "# calculate the static scalar polarizability for the ground state\n",
    "Mg.scalar_polarizability(0, 0)[0].to('h Hz/(V/cm)^2')"
   ]
  },
  {
   "cell_type": "code",
   "execution_count": 4,
   "metadata": {},
   "outputs": [
    {
     "name": "stdout",
     "output_type": "stream",
     "text": [
      "1.73 Hz·cm²·h/W\n"
     ]
    }
   ],
   "source": [
    "# calculate the dynamic polarizability for the ground state at 1064 nm\n",
    "λ = 1064 * _ureg.nm\n",
    "α0 = Mg.scalar_polarizability(0, 2*π*c/λ)[0]\n",
    "print('{:0.3g~P}'.format((α0/(2*c*ε_0)).to('h Hz/(W/cm^2)')))"
   ]
  },
  {
   "cell_type": "code",
   "execution_count": 5,
   "metadata": {},
   "outputs": [
    {
     "name": "stderr",
     "output_type": "stream",
     "text": [
      "/home/graum/.local/lib/python3.8/site-packages/numpy/core/_asarray.py:85: UnitStrippedWarning: The unit of the quantity is stripped when downcasting to ndarray.\n",
      "  return array(a, dtype, copy=False, order=order)\n",
      "/home/graum/.local/lib/python3.8/site-packages/numpy/core/_asarray.py:85: UnitStrippedWarning: The unit of the quantity is stripped when downcasting to ndarray.\n",
      "  return array(a, dtype, copy=False, order=order)\n"
     ]
    },
    {
     "data": {
      "image/png": "[encoded data removed]",
      "text/plain": [
       "<Figure size 432x288 with 1 Axes>"
      ]
     },
     "metadata": {
      "needs_background": "light"
     },
     "output_type": "display_data"
    }
   ],
   "source": [
    "# make a figure of the AC stark shift \n",
    "λ = np.linspace(100,1200, 1000) * _ureg.nm\n",
    "\n",
    "α0 = Mg.scalar_polarizability(0, 2*π*c/λ)\n",
    "AC_stark0 = (α0/(2*c*ε_0)).to('h Hz/(W/cm^2)')\n",
    "\n",
    "α1 = Mg.scalar_polarizability(1, 2*π*c/λ)\n",
    "AC_stark1 = (α1/(2*c*ε_0)).to('h Hz/(W/cm^2)')\n",
    "\n",
    "plt.plot(λ, AC_stark0, label=Mg.states[0].term)\n",
    "plt.plot(λ, AC_stark1, label=Mg.states[1].term)\n",
    "\n",
    "plt.legend()\n",
    "plt.xlabel('wavelength ({:})'.format(λ.units))\n",
    "plt.ylabel('AC Stark Shift ({:})'.format(AC_stark0.units))\n",
    "plt.ylim(-20,20);"
   ]
  }
 ],
 "metadata": {
  "kernelspec": {
   "display_name": "Python 3.8.2 64-bit",
   "language": "python",
   "name": "python38264bitaf042f9fe463484384ea3b7fb0e1c1bd"
  },
  "language_info": {
   "codemirror_mode": {
    "name": "ipython",
    "version": 3
   },
   "file_extension": ".py",
   "mimetype": "text/x-python",
   "name": "python",
   "nbconvert_exporter": "python",
   "pygments_lexer": "ipython3",
   "version": "3.8.2"
  }
 },
 "nbformat": 4,
 "nbformat_minor": 4
}
